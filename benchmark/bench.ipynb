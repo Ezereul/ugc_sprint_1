{
 "cells": [
  {
   "cell_type": "markdown",
   "source": [
    "# Clickhouse vs Vertica"
   ],
   "metadata": {
    "collapsed": false
   },
   "id": "53d89dc2091c3cee"
  },
  {
   "cell_type": "markdown",
   "source": [
    "#### 1. Создание таблиц для работы "
   ],
   "metadata": {
    "collapsed": false
   },
   "id": "39a6f3bbd3525c2e"
  },
  {
   "cell_type": "markdown",
   "source": [
    "#### *Clickhouse*"
   ],
   "metadata": {
    "collapsed": false
   },
   "id": "6ea81204c0c8e70d"
  },
  {
   "cell_type": "code",
   "outputs": [],
   "source": [
    "from clickhouse_driver import connect\n",
    "\n",
    "clickhouse_cursor = connect(host='localhost', port='9000', user='default', password='', database='default').cursor()\n",
    "\n",
    "clickhouse_cursor.execute(\"\"\"\n",
    "    CREATE TABLE IF NOT EXISTS movie_views(\n",
    "        user_id UUID,\n",
    "        movie_id UUID,\n",
    "        frame INTEGER,\n",
    "        event_time DateTime\n",
    "    )\n",
    "    ENGINE = MergeTree()\n",
    "    ORDER BY event_time;\n",
    "\"\"\")"
   ],
   "metadata": {
    "collapsed": false,
    "ExecuteTime": {
     "end_time": "2024-03-31T15:34:53.539458Z",
     "start_time": "2024-03-31T15:34:53.457737Z"
    }
   },
   "id": "64d13da269548601",
   "execution_count": 144
  },
  {
   "cell_type": "markdown",
   "source": [
    "#### *Vertica*"
   ],
   "metadata": {
    "collapsed": false
   },
   "id": "6340ab83ebd6f853"
  },
  {
   "cell_type": "code",
   "outputs": [],
   "source": [
    "from vertica_python import Connection\n",
    "\n",
    "conn_info = {\n",
    "    'host': 'localhost',\n",
    "    'port': 5433,\n",
    "    'user': 'dbadmin',\n",
    "    'password': 'password',\n",
    "    'database': 'test'\n",
    "}\n",
    "\n",
    "vertica_cursor = Connection(conn_info).cursor()"
   ],
   "metadata": {
    "collapsed": false
   },
   "id": "a98d147fff617a1e",
   "execution_count": null
  },
  {
   "cell_type": "code",
   "outputs": [
    {
     "data": {
      "text/plain": "<vertica_python.vertica.cursor.Cursor at 0x11df1cb60>"
     },
     "execution_count": 125,
     "metadata": {},
     "output_type": "execute_result"
    }
   ],
   "source": [
    "vertica_cursor.execute(\"\"\"\n",
    "    CREATE TABLE IF NOT EXISTS movie_views (\n",
    "        user_id UUID,\n",
    "        movie_id UUID,\n",
    "        frame INTEGER,\n",
    "        event_time DateTime\n",
    "    )\n",
    "    ORDER BY event_time;\n",
    "\"\"\")\n"
   ],
   "metadata": {
    "collapsed": false,
    "ExecuteTime": {
     "end_time": "2024-03-31T15:23:45.294093Z",
     "start_time": "2024-03-31T15:23:45.200125Z"
    }
   },
   "id": "4a928655d14543d5",
   "execution_count": 125
  },
  {
   "cell_type": "markdown",
   "source": [
    "#### 2. Функции для генерации данных и вставки в хранилище"
   ],
   "metadata": {
    "collapsed": false
   },
   "id": "7c99d98349973590"
  },
  {
   "cell_type": "code",
   "outputs": [],
   "source": [
    "from itertools import islice\n",
    "import random\n",
    "from faker import Faker\n",
    "\n",
    "faker = Faker()\n",
    "\n",
    "def generate_data(num_records, num_users=100, num_movies=100):\n",
    "    users = [str(faker.uuid4()) for _ in range(num_users)]\n",
    "    movies = [str(faker.uuid4()) for _ in range(num_movies)]\n",
    "    \n",
    "    for _ in range(num_records):\n",
    "        user_id = random.choice(users)\n",
    "        movie_id = random.choice(movies)\n",
    "        frame = faker.random_int(min=0, max=5000)\n",
    "        event_time = faker.date_time_this_year(before_now=True, after_now=False, tzinfo=None)\n",
    "        yield user_id, movie_id, frame, event_time\n",
    "\n",
    "def chunks(generator, size):\n",
    "    iterator = iter(generator)\n",
    "    for first in iterator:\n",
    "        yield [first] + list(islice(iterator, size - 1))"
   ],
   "metadata": {
    "collapsed": false,
    "ExecuteTime": {
     "end_time": "2024-03-30T17:23:26.740854Z",
     "start_time": "2024-03-30T17:23:26.712131Z"
    }
   },
   "id": "dc453e204506bd0d",
   "execution_count": 55
  },
  {
   "cell_type": "code",
   "outputs": [],
   "source": [
    "def insert_into_clickhouse(data):\n",
    "    clickhouse_cursor.execute(\n",
    "        'INSERT INTO movie_views (user_id, movie_id, frame, event_time) VALUES',\n",
    "        data\n",
    "    )\n",
    "    \n",
    "def insert_into_vertica(data):\n",
    "    vertica_cursor.executemany(\n",
    "        \"INSERT INTO movie_views (user_id, movie_id, frame, event_time) VALUES (%s, %s, %s, %s)\",\n",
    "        data\n",
    "    )"
   ],
   "metadata": {
    "collapsed": false,
    "ExecuteTime": {
     "end_time": "2024-03-30T15:50:36.757955Z",
     "start_time": "2024-03-30T15:50:36.755284Z"
    }
   },
   "id": "d3ed5c391c09ce6e",
   "execution_count": 14
  },
  {
   "cell_type": "markdown",
   "source": [
    "#### 3. Тестирование вставки данных"
   ],
   "metadata": {
    "collapsed": false
   },
   "id": "42550d1f37933246"
  },
  {
   "cell_type": "markdown",
   "source": [
    "#### *Clickhouse*"
   ],
   "metadata": {
    "collapsed": false
   },
   "id": "6d06443eaa25fa07"
  },
  {
   "cell_type": "code",
   "outputs": [
    {
     "name": "stdout",
     "output_type": "stream",
     "text": [
      "Всего записей для вставки: 10000000\n",
      "CPU times: user 2min 46s, sys: 531 ms, total: 2min 46s\n",
      "Wall time: 3min 18s\n"
     ]
    }
   ],
   "source": [
    "%%time\n",
    "for data_chunk in chunks(generate_data(10000000), 10000):\n",
    "    insert_into_clickhouse(data_chunk)"
   ],
   "metadata": {
    "collapsed": false,
    "ExecuteTime": {
     "end_time": "2024-03-30T16:23:30.401839Z",
     "start_time": "2024-03-30T16:20:12.136444Z"
    }
   },
   "id": "f805204a66e3d974",
   "execution_count": 35
  },
  {
   "cell_type": "code",
   "outputs": [
    {
     "data": {
      "text/plain": "(10006200,)"
     },
     "execution_count": 106,
     "metadata": {},
     "output_type": "execute_result"
    }
   ],
   "source": [
    "clickhouse_cursor.execute('SELECT COUNT(*) FROM movie_views')\n",
    "clickhouse_cursor.fetchone()"
   ],
   "metadata": {
    "collapsed": false,
    "ExecuteTime": {
     "end_time": "2024-03-31T15:06:35.648247Z",
     "start_time": "2024-03-31T15:06:35.613962Z"
    }
   },
   "id": "9625b572bcd65c16",
   "execution_count": 106
  },
  {
   "cell_type": "markdown",
   "source": [
    "#### *Vertica*"
   ],
   "metadata": {
    "collapsed": false
   },
   "id": "826001ae4ced2074"
  },
  {
   "cell_type": "code",
   "outputs": [
    {
     "name": "stdout",
     "output_type": "stream",
     "text": [
      "CPU times: user 5min 4s, sys: 1.14 s, total: 5min 5s\n",
      "Wall time: 6min 24s\n"
     ]
    }
   ],
   "source": [
    "%%time\n",
    "for data_chunk in chunks(generate_data(10000000), 10000):\n",
    "    insert_into_vertica(data_chunk)"
   ],
   "metadata": {
    "collapsed": false,
    "ExecuteTime": {
     "end_time": "2024-03-31T15:30:21.311612Z",
     "start_time": "2024-03-31T15:23:56.946047Z"
    }
   },
   "id": "611eb5360111c99f",
   "execution_count": 126
  },
  {
   "cell_type": "code",
   "outputs": [
    {
     "data": {
      "text/plain": "[[10000000]]"
     },
     "execution_count": 127,
     "metadata": {},
     "output_type": "execute_result"
    }
   ],
   "source": [
    "vertica_cursor.execute('SELECT COUNT(*) FROM movie_views')\n",
    "vertica_cursor.fetchall()"
   ],
   "metadata": {
    "collapsed": false,
    "ExecuteTime": {
     "end_time": "2024-03-31T15:30:24.337695Z",
     "start_time": "2024-03-31T15:30:24.015845Z"
    }
   },
   "id": "2a988a05e84a436d",
   "execution_count": 127
  },
  {
   "cell_type": "markdown",
   "source": [
    "#### 4. Получение агрегированных данных"
   ],
   "metadata": {
    "collapsed": false
   },
   "id": "278be930261e6e57"
  },
  {
   "cell_type": "markdown",
   "source": [
    "#### *Clickhouse*"
   ],
   "metadata": {
    "collapsed": false
   },
   "id": "606476f506d3b643"
  },
  {
   "cell_type": "code",
   "outputs": [
    {
     "name": "stdout",
     "output_type": "stream",
     "text": [
      "CPU times: user 33.2 ms, sys: 4.41 ms, total: 37.6 ms\n",
      "Wall time: 3.74 s\n"
     ]
    }
   ],
   "source": [
    "%%time\n",
    "clickhouse_cursor.execute(\"\"\"\n",
    "SELECT \n",
    "    user_id, \n",
    "    count(movie_id) AS movies_watched, \n",
    "    avg(frame) AS average_frames\n",
    "FROM movie_views\n",
    "GROUP BY user_id\n",
    "ORDER BY movies_watched DESC\n",
    "LIMIT 100;\n",
    "\"\"\")"
   ],
   "metadata": {
    "collapsed": false,
    "ExecuteTime": {
     "end_time": "2024-03-31T15:15:34.891398Z",
     "start_time": "2024-03-31T15:15:31.143593Z"
    }
   },
   "id": "93be3e7f12b27826",
   "execution_count": 113
  },
  {
   "cell_type": "code",
   "outputs": [
    {
     "name": "stdout",
     "output_type": "stream",
     "text": [
      "CPU times: user 1.39 ms, sys: 926 µs, total: 2.32 ms\n",
      "Wall time: 84.7 ms\n"
     ]
    }
   ],
   "source": [
    "%%time\n",
    "clickhouse_cursor.execute('SELECT MAX(frame), MIN(frame), SUM(frame), AVG(frame) FROM movie_views')"
   ],
   "metadata": {
    "collapsed": false,
    "ExecuteTime": {
     "end_time": "2024-03-31T15:15:40.251295Z",
     "start_time": "2024-03-31T15:15:40.163915Z"
    }
   },
   "id": "8d2a33c7797577f7",
   "execution_count": 114
  },
  {
   "cell_type": "markdown",
   "source": [
    "#### *Vertica*"
   ],
   "metadata": {
    "collapsed": false
   },
   "id": "3d5351c6b5626ae5"
  },
  {
   "cell_type": "code",
   "outputs": [
    {
     "name": "stdout",
     "output_type": "stream",
     "text": [
      "CPU times: user 1.92 ms, sys: 1.51 ms, total: 3.43 ms\n",
      "Wall time: 26 s\n"
     ]
    },
    {
     "data": {
      "text/plain": "<vertica_python.vertica.cursor.Cursor at 0x11df1cb60>"
     },
     "execution_count": 128,
     "metadata": {},
     "output_type": "execute_result"
    }
   ],
   "source": [
    "%%time\n",
    "vertica_cursor.execute(\"\"\"\n",
    "SELECT \n",
    "    user_id, \n",
    "    count(movie_id) AS movies_watched, \n",
    "    avg(frame) AS average_frames\n",
    "FROM movie_views\n",
    "GROUP BY user_id\n",
    "ORDER BY movies_watched DESC\n",
    "LIMIT 100;\n",
    "\"\"\")"
   ],
   "metadata": {
    "collapsed": false,
    "ExecuteTime": {
     "end_time": "2024-03-31T15:30:54.993652Z",
     "start_time": "2024-03-31T15:30:29.034470Z"
    }
   },
   "id": "d71f325360a9a806",
   "execution_count": 128
  },
  {
   "cell_type": "code",
   "outputs": [
    {
     "name": "stdout",
     "output_type": "stream",
     "text": [
      "CPU times: user 875 µs, sys: 820 µs, total: 1.7 ms\n",
      "Wall time: 591 ms\n"
     ]
    },
    {
     "data": {
      "text/plain": "<vertica_python.vertica.cursor.Cursor at 0x10cd3eed0>"
     },
     "execution_count": 93,
     "metadata": {},
     "output_type": "execute_result"
    }
   ],
   "source": [
    "%%time\n",
    "vertica_cursor.execute('SELECT MAX(frame), MIN(frame), SUM(frame), AVG(frame) FROM movie_views')"
   ],
   "metadata": {
    "collapsed": false,
    "ExecuteTime": {
     "end_time": "2024-03-30T17:45:39.518868Z",
     "start_time": "2024-03-30T17:45:38.924295Z"
    }
   },
   "id": "ca49050eb9f6924d",
   "execution_count": 93
  },
  {
   "cell_type": "markdown",
   "source": [
    "#### 5. Получение данных под нагрузкой"
   ],
   "metadata": {
    "collapsed": false
   },
   "id": "41d00446e757fe3d"
  },
  {
   "cell_type": "code",
   "outputs": [],
   "source": [
    "import threading\n",
    "from time import sleep\n",
    "\n",
    "stop_thread = False\n",
    "def insert_data_forever():\n",
    "    while not stop_thread:\n",
    "        data_chunk = list(generate_data(1000))\n",
    "        insert_into_clickhouse(data_chunk)\n",
    "        insert_into_vertica(data_chunk)\n",
    "        sleep(1)\n",
    "\n",
    "data_thread = threading.Thread(target=insert_data_forever)\n",
    "data_thread.start()"
   ],
   "metadata": {
    "collapsed": false,
    "ExecuteTime": {
     "end_time": "2024-03-31T15:35:23.406592Z",
     "start_time": "2024-03-31T15:35:23.364764Z"
    }
   },
   "id": "d400c3ee5ca9703f",
   "execution_count": 148
  },
  {
   "cell_type": "code",
   "outputs": [
    {
     "name": "stdout",
     "output_type": "stream",
     "text": [
      "CPU times: user 1.7 s, sys: 15 ms, total: 1.72 s\n",
      "Wall time: 2.49 s\n"
     ]
    }
   ],
   "source": [
    "%%time\n",
    "clickhouse_cursor.execute(\"\"\"\n",
    "SELECT \n",
    "    user_id, \n",
    "    count(movie_id) AS movies_watched, \n",
    "    avg(frame) AS average_frames\n",
    "FROM movie_views\n",
    "GROUP BY user_id\n",
    "ORDER BY movies_watched DESC\n",
    "LIMIT 100;\n",
    "\"\"\")"
   ],
   "metadata": {
    "collapsed": false,
    "ExecuteTime": {
     "end_time": "2024-03-31T15:35:28.633060Z",
     "start_time": "2024-03-31T15:35:26.137297Z"
    }
   },
   "id": "ce4d66525e7280c2",
   "execution_count": 149
  },
  {
   "cell_type": "code",
   "outputs": [],
   "source": [
    "%%time\n",
    "vertica_cursor.execute(\"\"\"\n",
    "SELECT \n",
    "    user_id, \n",
    "    count(movie_id) AS movies_watched, \n",
    "    avg(frame) AS average_frames\n",
    "FROM movie_views\n",
    "GROUP BY user_id\n",
    "ORDER BY movies_watched DESC\n",
    "LIMIT 100;\n",
    "\"\"\")"
   ],
   "metadata": {
    "collapsed": false
   },
   "id": "7d71b2aeb248622c",
   "execution_count": null
  },
  {
   "cell_type": "code",
   "outputs": [],
   "source": [
    "stop_thread = True\n",
    "data_thread.join()"
   ],
   "metadata": {
    "collapsed": false,
    "ExecuteTime": {
     "end_time": "2024-03-31T15:35:30.958386Z",
     "start_time": "2024-03-31T15:35:30.955853Z"
    }
   },
   "id": "2d96bba3ba0106bf",
   "execution_count": 150
  }
 ],
 "metadata": {
  "kernelspec": {
   "display_name": "Python 3",
   "language": "python",
   "name": "python3"
  },
  "language_info": {
   "codemirror_mode": {
    "name": "ipython",
    "version": 2
   },
   "file_extension": ".py",
   "mimetype": "text/x-python",
   "name": "python",
   "nbconvert_exporter": "python",
   "pygments_lexer": "ipython2",
   "version": "2.7.6"
  }
 },
 "nbformat": 4,
 "nbformat_minor": 5
}
